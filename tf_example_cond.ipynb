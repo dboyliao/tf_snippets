{
 "cells": [
  {
   "cell_type": "code",
   "execution_count": 2,
   "metadata": {},
   "outputs": [],
   "source": [
    "from __future__ import print_function\n",
    "import tensorflow as tf"
   ]
  },
  {
   "cell_type": "code",
   "execution_count": 3,
   "metadata": {},
   "outputs": [],
   "source": [
    "tf.reset_default_graph()\n",
    "\n",
    "pred = tf.placeholder(tf.bool, name=\"pred\")\n",
    "x = tf.cond(pred, \n",
    "            lambda: tf.constant(3, dtype=tf.float32), \n",
    "            lambda: tf.constant(1, dtype=tf.float32))"
   ]
  },
  {
   "cell_type": "code",
   "execution_count": 4,
   "metadata": {},
   "outputs": [
    {
     "name": "stdout",
     "output_type": "stream",
     "text": [
      "3.0\n",
      "1.0\n"
     ]
    }
   ],
   "source": [
    "with tf.Session() as sess:\n",
    "    print(sess.run(x, feed_dict={pred: True}))\n",
    "    print(sess.run(x, feed_dict={pred:False}))"
   ]
  },
  {
   "cell_type": "code",
   "execution_count": 8,
   "metadata": {},
   "outputs": [
    {
     "name": "stdout",
     "output_type": "stream",
     "text": [
      "1.4.0\n"
     ]
    }
   ],
   "source": [
    "print(tf.__version__)"
   ]
  },
  {
   "cell_type": "markdown",
   "metadata": {
    "collapsed": true
   },
   "source": [
    "## The Tricky Things about `tf.cond`\n",
    "\n",
    "- Based on version printed above (should be 1.4.0)\n",
    "- [source code](https://github.com/tensorflow/tensorflow/blob/r1.4/tensorflow/python/ops/control_flow_ops.py#L1747)\n",
    "- Make sure you read the doc string of `tf.cond` from line 10 to 16"
   ]
  },
  {
   "cell_type": "code",
   "execution_count": 9,
   "metadata": {},
   "outputs": [
    {
     "name": "stdout",
     "output_type": "stream",
     "text": [
      " 1| Return `true_fn()` if the predicate `pred` is true else `false_fn()`. (deprecated arguments)\n",
      " 2| \n",
      " 3| SOME ARGUMENTS ARE DEPRECATED. They will be removed in a future version.\n",
      " 4| Instructions for updating:\n",
      " 5| fn1/fn2 are deprecated in favor of the true_fn/false_fn arguments.\n",
      " 6| \n",
      " 7| `true_fn` and `false_fn` both return lists of output tensors. `true_fn` and\n",
      " 8| `false_fn` must have the same non-zero number and type of outputs.\n",
      " 9| \n",
      "10| Note that the conditional execution applies only to the operations defined in\n",
      "11| `true_fn` and `false_fn`. Consider the following simple program:\n",
      "12| \n",
      "13| ```python\n",
      "14| z = tf.multiply(a, b)\n",
      "15| result = tf.cond(x < y, lambda: tf.add(x, z), lambda: tf.square(y))\n",
      "16| ```\n",
      "17| \n",
      "18| If `x < y`, the `tf.add` operation will be executed and `tf.square`\n",
      "19| operation will not be executed. Since `z` is needed for at least one\n",
      "20| branch of the `cond`, the `tf.multiply` operation is always executed,\n",
      "21| unconditionally.\n",
      "22| Although this behavior is consistent with the dataflow model of TensorFlow,\n",
      "23| it has occasionally surprised some users who expected a lazier semantics.\n",
      "24| \n",
      "25| Note that `cond` calls `true_fn` and `false_fn` *exactly once* (inside the\n",
      "26| call to `cond`, and not at all during `Session.run()`). `cond`\n",
      "27| stitches together the graph fragments created during the `true_fn` and\n",
      "28| `false_fn` calls with some additional graph nodes to ensure that the right\n",
      "29| branch gets executed depending on the value of `pred`.\n",
      "30| \n",
      "31| `tf.cond` supports nested structures as implemented in\n",
      "32| `tensorflow.python.util.nest`. Both `true_fn` and `false_fn` must return the\n",
      "33| same (possibly nested) value structure of lists, tuples, and/or named tuples.\n",
      "34| Singleton lists and tuples form the only exceptions to this: when returned by\n",
      "35| `true_fn` and/or `false_fn`, they are implicitly unpacked to single values.\n",
      "36| This behavior is disabled by passing `strict=True`.\n",
      "37| \n",
      "38| Args:\n",
      "39|   pred: A scalar determining whether to return the result of `true_fn` or\n",
      "40|     `false_fn`.\n",
      "41|   true_fn: The callable to be performed if pred is true.\n",
      "42|   false_fn: The callable to be performed if pred is false.\n",
      "43|   strict: A boolean that enables/disables 'strict' mode; see above.\n",
      "44|   name: Optional name prefix for the returned tensors.\n",
      "45| \n",
      "46| Returns:\n",
      "47|   Tensors returned by the call to either `true_fn` or `false_fn`. If the\n",
      "48|   callables return a singleton list, the element is extracted from the list.\n",
      "49| \n",
      "50| Raises:\n",
      "51|   TypeError: if `true_fn` or `false_fn` is not callable.\n",
      "52|   ValueError: if `true_fn` and `false_fn` do not return the same number of\n",
      "53|     tensors, or return tensors of different types.\n",
      "54| \n",
      "55| Example:\n",
      "56| \n",
      "57| ```python\n",
      "58| x = tf.constant(2)\n",
      "59| y = tf.constant(5)\n",
      "60| def f1(): return tf.multiply(x, 17)\n",
      "61| def f2(): return tf.add(y, 23)\n",
      "62| r = tf.cond(tf.less(x, y), f1, f2)\n",
      "63| # r is set to f1().\n",
      "64| # Operations in f2 (e.g., tf.add) are not executed.\n",
      "65| ```\n"
     ]
    }
   ],
   "source": [
    "for i, l in enumerate(tf.cond.__doc__.split(\"\\n\"), 1):\n",
    "    print(\"{:>2}| {}\".format(i, l))"
   ]
  },
  {
   "cell_type": "code",
   "execution_count": 13,
   "metadata": {},
   "outputs": [
    {
     "name": "stdout",
     "output_type": "stream",
     "text": [
      "7.0 6.0\n",
      "1.0 6.0\n"
     ]
    }
   ],
   "source": [
    "# let's try the example in the doc\n",
    "with tf.Graph().as_default():\n",
    "    a = tf.constant(2.0)\n",
    "    b = tf.constant(3.0)\n",
    "    z = tf.multiply(a, b)\n",
    "    x = tf.placeholder(tf.float32)\n",
    "    y = tf.placeholder(tf.float32)\n",
    "    result = tf.cond(x < y, lambda: tf.add(x, z), lambda: tf.square(y))\n",
    "    \n",
    "with tf.Session(graph=a.graph) as sess:\n",
    "    feed_dict = {x: 1, y:2}\n",
    "    r, zz = sess.run([result, z], feed_dict=feed_dict)\n",
    "    print(r, zz)\n",
    "\n",
    "with tf.Session(graph=a.graph) as sess:\n",
    "    feed_dict = {x: 2, y:1}\n",
    "    r, zz = sess.run([result, z], feed_dict=feed_dict)\n",
    "    print(r, zz)"
   ]
  },
  {
   "cell_type": "markdown",
   "metadata": {},
   "source": [
    "Well, nothing special\n",
    "\n",
    "Ok, let's do some exciting side-effect\n",
    "\n",
    "**side-effect is wonderful, fuck yeah~\\~\\~!**"
   ]
  },
  {
   "cell_type": "code",
   "execution_count": 80,
   "metadata": {},
   "outputs": [],
   "source": [
    "side_graph = tf.Graph()\n",
    "with side_graph.as_default():\n",
    "    pred = tf.placeholder(tf.bool, name=\"pred\")\n",
    "    x = tf.Variable(1.0, trainable=False, name=\"x\")\n",
    "    add_x = tf.assign_add(x, 1.0, name=\"add_x\")\n",
    "    with tf.control_dependencies([add_x]):\n",
    "        y = tf.constant(3.0, name=\"y\")\n",
    "    result = tf.cond(pred, true_fn=lambda: x, false_fn=lambda: y)"
   ]
  },
  {
   "cell_type": "code",
   "execution_count": 81,
   "metadata": {},
   "outputs": [],
   "source": [
    "# Before you run the following cell, what you'll see?\n",
    "# Make a guess!"
   ]
  },
  {
   "cell_type": "code",
   "execution_count": 82,
   "metadata": {},
   "outputs": [
    {
     "name": "stdout",
     "output_type": "stream",
     "text": [
      "2.0 3.0\n"
     ]
    }
   ],
   "source": [
    "with tf.Session(graph=side_graph) as sess:\n",
    "    tf.global_variables_initializer().run()\n",
    "    feed_dict = {pred: False}\n",
    "    xx, yy = sess.run([x, result], feed_dict=feed_dict)\n",
    "    print(xx, yy)"
   ]
  },
  {
   "cell_type": "code",
   "execution_count": 83,
   "metadata": {},
   "outputs": [
    {
     "name": "stdout",
     "output_type": "stream",
     "text": [
      "2.0 2.0\n"
     ]
    }
   ],
   "source": [
    "with tf.Session(graph=side_graph) as sess:\n",
    "    tf.global_variables_initializer().run()\n",
    "    feed_dict = {pred: True}\n",
    "    xx, yy = sess.run([x, result], feed_dict=feed_dict)\n",
    "    print(xx, yy)\n",
    "## xx is still 2.0, WTF!?"
   ]
  },
  {
   "cell_type": "markdown",
   "metadata": {},
   "source": [
    "So...why `x` is still updated even we the `pred` is `True`? \n",
    "\n",
    "That is, we in fact don't need `y` here."
   ]
  },
  {
   "cell_type": "code",
   "execution_count": 50,
   "metadata": {},
   "outputs": [],
   "source": [
    "tf.summary.FileWriter(graph=side_graph, logdir='log/side_graph').close()"
   ]
  },
  {
   "cell_type": "markdown",
   "metadata": {},
   "source": [
    "## The Graph\n",
    "\n",
    "![cond-side-eff](images/cond_side_eff.png)\n",
    "\n",
    "As you can see here, `x`, `y` and `add_x` are all needed by `cond`.\n",
    "\n",
    "According to dataflow model in `Tensorflow`, these tensors will be evaluated before evaluation of `cond`.\n",
    "\n",
    "In this case, `add_x` will be evaluated no matter what `pred` is!"
   ]
  },
  {
   "cell_type": "markdown",
   "metadata": {},
   "source": [
    "## Summary\n",
    "\n",
    "1. the `true_fn` and `false_fn` will be called only **once** when the `cond` node is created in the graph, not the runtime (`Session`)\n",
    "2. Make sure you block your side-effect in the `true_fn` and `false_fn`"
   ]
  },
  {
   "cell_type": "markdown",
   "metadata": {},
   "source": [
    "## References\n",
    "\n",
    "- [Stackoverflow](https://stackoverflow.com/questions/37063952/confused-by-the-behavior-of-tf-cond)\n",
    "  - Exellent explanation, must read.\n",
    "- [Issue #3287](https://github.com/tensorflow/tensorflow/issues/3287)"
   ]
  }
 ],
 "metadata": {
  "kernelspec": {
   "display_name": "Python 3",
   "language": "python",
   "name": "python3"
  },
  "language_info": {
   "codemirror_mode": {
    "name": "ipython",
    "version": 3
   },
   "file_extension": ".py",
   "mimetype": "text/x-python",
   "name": "python",
   "nbconvert_exporter": "python",
   "pygments_lexer": "ipython3",
   "version": "3.6.3"
  }
 },
 "nbformat": 4,
 "nbformat_minor": 2
}
