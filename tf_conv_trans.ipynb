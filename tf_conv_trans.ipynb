{
 "cells": [
  {
   "cell_type": "code",
   "execution_count": 2,
   "metadata": {
    "ExecuteTime": {
     "end_time": "2018-09-02T08:40:20.772384Z",
     "start_time": "2018-09-02T08:40:17.204656Z"
    }
   },
   "outputs": [
    {
     "name": "stderr",
     "output_type": "stream",
     "text": [
      "/usr/local/Cellar/python/3.6.5_1/Frameworks/Python.framework/Versions/3.6/lib/python3.6/importlib/_bootstrap.py:219: RuntimeWarning: compiletime version 3.5 of module 'tensorflow.python.framework.fast_tensor_util' does not match runtime version 3.6\n",
      "  return f(*args, **kwds)\n",
      "/usr/local/lib/python3.6/site-packages/h5py/__init__.py:36: FutureWarning: Conversion of the second argument of issubdtype from `float` to `np.floating` is deprecated. In future, it will be treated as `np.float64 == np.dtype(float).type`.\n",
      "  from ._conv import register_converters as _register_converters\n"
     ]
    }
   ],
   "source": [
    "import tensorflow as tf"
   ]
  },
  {
   "cell_type": "code",
   "execution_count": 3,
   "metadata": {
    "ExecuteTime": {
     "end_time": "2018-09-02T08:40:20.787827Z",
     "start_time": "2018-09-02T08:40:20.775077Z"
    }
   },
   "outputs": [
    {
     "data": {
      "text/plain": [
       "'1.10.1'"
      ]
     },
     "execution_count": 3,
     "metadata": {},
     "output_type": "execute_result"
    }
   ],
   "source": [
    "tf.__version__"
   ]
  },
  {
   "cell_type": "code",
   "execution_count": 4,
   "metadata": {
    "ExecuteTime": {
     "end_time": "2018-09-02T08:40:20.797602Z",
     "start_time": "2018-09-02T08:40:20.793234Z"
    }
   },
   "outputs": [],
   "source": [
    "import numpy as np"
   ]
  },
  {
   "cell_type": "code",
   "execution_count": 5,
   "metadata": {
    "ExecuteTime": {
     "end_time": "2018-09-02T08:40:40.080486Z",
     "start_time": "2018-09-02T08:40:40.076335Z"
    }
   },
   "outputs": [
    {
     "name": "stdout",
     "output_type": "stream",
     "text": [
      "Computes a 2-D convolution given 4-D `input` and `filter` tensors.\n",
      "\n",
      "  Given an input tensor of shape `[batch, in_height, in_width, in_channels]`\n",
      "  and a filter / kernel tensor of shape\n",
      "  `[filter_height, filter_width, in_channels, out_channels]`, this op\n",
      "  performs the following:\n",
      "\n",
      "  1. Flattens the filter to a 2-D matrix with shape\n",
      "     `[filter_height * filter_width * in_channels, output_channels]`.\n",
      "  2. Extracts image patches from the input tensor to form a *virtual*\n",
      "     tensor of shape `[batch, out_height, out_width,\n",
      "     filter_height * filter_width * in_channels]`.\n",
      "  3. For each patch, right-multiplies the filter matrix and the image patch\n",
      "     vector.\n",
      "\n",
      "  In detail, with the default NHWC format,\n",
      "\n",
      "      output[b, i, j, k] =\n",
      "          sum_{di, dj, q} input[b, strides[1] * i + di, strides[2] * j + dj, q] *\n",
      "                          filter[di, dj, q, k]\n",
      "\n",
      "  Must have `strides[0] = strides[3] = 1`.  For the most common case of the same\n",
      "  horizontal and vertices strides, `strides = [1, stride, stride, 1]`.\n",
      "\n",
      "  Args:\n",
      "    input: A `Tensor`. Must be one of the following types: `half`, `bfloat16`, `float32`, `float64`.\n",
      "      A 4-D tensor. The dimension order is interpreted according to the value\n",
      "      of `data_format`, see below for details.\n",
      "    filter: A `Tensor`. Must have the same type as `input`.\n",
      "      A 4-D tensor of shape\n",
      "      `[filter_height, filter_width, in_channels, out_channels]`\n",
      "    strides: A list of `ints`.\n",
      "      1-D tensor of length 4.  The stride of the sliding window for each\n",
      "      dimension of `input`. The dimension order is determined by the value of\n",
      "      `data_format`, see below for details.\n",
      "    padding: A `string` from: `\"SAME\", \"VALID\"`.\n",
      "      The type of padding algorithm to use.\n",
      "    use_cudnn_on_gpu: An optional `bool`. Defaults to `True`.\n",
      "    data_format: An optional `string` from: `\"NHWC\", \"NCHW\"`. Defaults to `\"NHWC\"`.\n",
      "      Specify the data format of the input and output data. With the\n",
      "      default format \"NHWC\", the data is stored in the order of:\n",
      "          [batch, height, width, channels].\n",
      "      Alternatively, the format could be \"NCHW\", the data storage order of:\n",
      "          [batch, channels, height, width].\n",
      "    dilations: An optional list of `ints`. Defaults to `[1, 1, 1, 1]`.\n",
      "      1-D tensor of length 4.  The dilation factor for each dimension of\n",
      "      `input`. If set to k > 1, there will be k-1 skipped cells between each\n",
      "      filter element on that dimension. The dimension order is determined by the\n",
      "      value of `data_format`, see above for details. Dilations in the batch and\n",
      "      depth dimensions must be 1.\n",
      "    name: A name for the operation (optional).\n",
      "\n",
      "  Returns:\n",
      "    A `Tensor`. Has the same type as `input`.\n",
      "  \n"
     ]
    }
   ],
   "source": [
    "print(tf.nn.conv2d.__doc__)"
   ]
  },
  {
   "cell_type": "code",
   "execution_count": 6,
   "metadata": {
    "ExecuteTime": {
     "end_time": "2018-09-02T08:43:39.373088Z",
     "start_time": "2018-09-02T08:43:39.369398Z"
    }
   },
   "outputs": [
    {
     "name": "stdout",
     "output_type": "stream",
     "text": [
      "The transpose of `conv2d`.\n",
      "\n",
      "  This operation is sometimes called \"deconvolution\" after [Deconvolutional\n",
      "  Networks](http://www.matthewzeiler.com/pubs/cvpr2010/cvpr2010.pdf), but is\n",
      "  actually the transpose (gradient) of `conv2d` rather than an actual\n",
      "  deconvolution.\n",
      "\n",
      "  Args:\n",
      "    value: A 4-D `Tensor` of type `float` and shape\n",
      "      `[batch, height, width, in_channels]` for `NHWC` data format or\n",
      "      `[batch, in_channels, height, width]` for `NCHW` data format.\n",
      "    filter: A 4-D `Tensor` with the same type as `value` and shape\n",
      "      `[height, width, output_channels, in_channels]`.  `filter`'s\n",
      "      `in_channels` dimension must match that of `value`.\n",
      "    output_shape: A 1-D `Tensor` representing the output shape of the\n",
      "      deconvolution op.\n",
      "    strides: A list of ints. The stride of the sliding window for each\n",
      "      dimension of the input tensor.\n",
      "    padding: A string, either `'VALID'` or `'SAME'`. The padding algorithm.\n",
      "      See the @{tf.nn.convolution$comment here}\n",
      "    data_format: A string. 'NHWC' and 'NCHW' are supported.\n",
      "    name: Optional name for the returned tensor.\n",
      "\n",
      "  Returns:\n",
      "    A `Tensor` with the same type as `value`.\n",
      "\n",
      "  Raises:\n",
      "    ValueError: If input/output depth does not match `filter`'s shape, or if\n",
      "      padding is other than `'VALID'` or `'SAME'`.\n",
      "  \n"
     ]
    }
   ],
   "source": [
    "print(tf.nn.conv2d_transpose.__doc__)"
   ]
  },
  {
   "cell_type": "code",
   "execution_count": 15,
   "metadata": {
    "ExecuteTime": {
     "end_time": "2018-09-02T07:41:59.449209Z",
     "start_time": "2018-09-02T07:41:59.435200Z"
    }
   },
   "outputs": [],
   "source": [
    "graph = tf.Graph()\n",
    "with graph.as_default():\n",
    "    x = tf.constant(np.random.randn(10, 32, 32, 3),\n",
    "                    dtype=tf.float32)\n",
    "    kernel = tf.convert_to_tensor(np.random.randn(4, 4, 3, 36),\n",
    "                                  dtype=tf.float32,\n",
    "                                  name='kernel')\n",
    "    conv = tf.nn.conv2d(x, kernel, strides=[1, 2, 2, 1], padding='VALID', name='conv')\n",
    "    kernel_trans = tf.convert_to_tensor(np.random.randn(4, 4, 3, 36),\n",
    "                                        dtype=tf.float32)\n",
    "    x_trans = tf.nn.conv2d_transpose(conv, kernel_trans, strides=[1, 2, 2, 1], padding='VALID', output_shape=(10, 32, 32, 3))"
   ]
  },
  {
   "cell_type": "code",
   "execution_count": 16,
   "metadata": {
    "ExecuteTime": {
     "end_time": "2018-09-02T07:42:05.641963Z",
     "start_time": "2018-09-02T07:42:05.638193Z"
    }
   },
   "outputs": [
    {
     "data": {
      "text/plain": [
       "<tf.Tensor 'conv2d_transpose_1:0' shape=(10, 32, 32, 3) dtype=float32>"
      ]
     },
     "execution_count": 16,
     "metadata": {},
     "output_type": "execute_result"
    }
   ],
   "source": [
    "x_trans"
   ]
  },
  {
   "cell_type": "code",
   "execution_count": null,
   "metadata": {},
   "outputs": [],
   "source": []
  }
 ],
 "metadata": {
  "kernelspec": {
   "display_name": "Python 3",
   "language": "python",
   "name": "python3"
  },
  "language_info": {
   "codemirror_mode": {
    "name": "ipython",
    "version": 3
   },
   "file_extension": ".py",
   "mimetype": "text/x-python",
   "name": "python",
   "nbconvert_exporter": "python",
   "pygments_lexer": "ipython3",
   "version": "3.6.5"
  },
  "toc": {
   "nav_menu": {},
   "number_sections": true,
   "sideBar": true,
   "skip_h1_title": false,
   "toc_cell": false,
   "toc_position": {},
   "toc_section_display": "block",
   "toc_window_display": false
  }
 },
 "nbformat": 4,
 "nbformat_minor": 2
}
